{
 "cells": [
  {
   "cell_type": "markdown",
   "metadata": {},
   "source": [
    "# Model Hyperparameter tuning and analysis portal\n",
    "\n",
    "We will use this notebook to:\n",
    "- visualize dataset.\n",
    "- find the correct model by grid search with 5-fold CV.\n",
    "- save best performing model into pickle file that is ready to be deployed as API.\n",
    "- visualize errors on customizable error metrics."
   ]
  },
  {
   "cell_type": "code",
   "execution_count": 10,
   "metadata": {},
   "outputs": [],
   "source": [
    "import numpy as np\n",
    "import pandas as pd\n",
    "import matplotlib.pyplot as plt\n",
    "import seaborn as sns"
   ]
  },
  {
   "cell_type": "markdown",
   "metadata": {},
   "source": [
    "## 1. Visualize dataset\n",
    "Split development set and test set.  \n",
    "Test set: 2020-01-01 and onward.  \n",
    "Dev set: any data before 2020-01-01."
   ]
  },
  {
   "cell_type": "markdown",
   "metadata": {},
   "source": [
    "## 2. Find best model\n",
    "### 2.1 RandomForest with CV"
   ]
  },
  {
   "cell_type": "code",
   "execution_count": 14,
   "metadata": {},
   "outputs": [],
   "source": [
    "from sklearn.metrics import mean_squared_error\n",
    "\n",
    "# function to evaluate and plot a regressor on a given feature set\n",
    "def eval_on_features(features, target, regressor):\n",
    "        \n",
    "    n_train =features.shape[0]-n_test\n",
    "    \n",
    "    # split the given features into a training and a test set\n",
    "    X_train, X_test = features[:n_train], features[n_train:]\n",
    "    \n",
    "    # also split the target array\n",
    "    y_train, y_test = target[:n_train], target[n_train:]\n",
    "\n",
    "    #train regressor\n",
    "    regressor.fit(X_train, y_train)\n",
    "    \n",
    "    print(\"Train-set water level R^2: {:.2f}\".format(regressor.score(X_train, y_train)))\n",
    "    print(\"Test-set water level R^2: {:.2f}\".format(regressor.score(X_test, y_test)))\n",
    "    \n",
    "    y_pred = regressor.predict(X_test)\n",
    "    y_pred_train = regressor.predict(X_train)\n",
    "    \n",
    "    print(\"Train-set water level RMSE: {:.2f}\".format(mean_squared_error(y_train, \n",
    "                                                             y_pred_train, \n",
    "                                                            squared=False)))\n",
    "    print(\"Test-set water level RMSE: {:.2f}\".format(mean_squared_error(y_test, \n",
    "                                                            y_pred,\n",
    "                                                           squared=False)))\n",
    "    #prepare plotting\n",
    "    plt.figure(figsize=(10, 3))\n",
    "    \n",
    "    # get xticks in days for range present in feature vector\n",
    "    xticks = pd.date_range(start=ram.index[features.index[0]], end=ram.index.max(),\n",
    "                       freq='2Y')\n",
    "\n",
    "    plt.xticks(range(0, len(ram.values), 8), xticks.strftime(\"%Y\"), rotation=90,\n",
    "               ha=\"left\")\n",
    "\n",
    "    plt.plot(range(n_train), y_train, label=\"train\")\n",
    "    plt.plot(range(n_train, len(y_test) + n_train), y_test, '-', label=\"test\")\n",
    "    plt.plot(range(n_train), y_pred_train, '--', label=\"prediction train\")\n",
    "\n",
    "    plt.plot(range(n_train, len(y_test) + n_train), y_pred, '--',\n",
    "             label=\"prediction test\")\n",
    "    plt.legend(loc=(1.01, 0))\n",
    "    plt.xlabel(\"Date\")\n",
    "    plt.ylabel(\"water level m\")\n",
    "    plt.grid()"
   ]
  },
  {
   "cell_type": "code",
   "execution_count": 15,
   "metadata": {},
   "outputs": [
    {
     "name": "stdout",
     "output_type": "stream",
     "text": [
      "train size: (60,) test size: (59,)\n",
      "train size: (119,) test size: (59,)\n",
      "train size: (178,) test size: (59,)\n"
     ]
    }
   ],
   "source": [
    "from sklearn.model_selection import TimeSeriesSplit\n",
    "tscv = TimeSeriesSplit(n_splits=3)\n",
    "\n",
    "for train_index, test_index in tscv.split(X_year_month):\n",
    "    print(\"train size:\", train_index.shape, \"test size:\", test_index.shape)"
   ]
  },
  {
   "cell_type": "code",
   "execution_count": 16,
   "metadata": {},
   "outputs": [
    {
     "name": "stdout",
     "output_type": "stream",
     "text": [
      "[-2.89178724 -1.6942698  -4.38902262]\n",
      "mean= -2.992\n"
     ]
    }
   ],
   "source": [
    "from sklearn.ensemble import RandomForestRegressor\n",
    "from sklearn.model_selection import cross_val_score\n",
    "\n",
    "regressor = RandomForestRegressor(n_estimators=100, random_state=0)\n",
    "\n",
    "scores = cross_val_score(regressor, X_year_month, y, cv=tscv)\n",
    "\n",
    "print(scores)\n",
    "print(f\"mean= {scores.mean():.3f}\")"
   ]
  },
  {
   "cell_type": "code",
   "execution_count": 17,
   "metadata": {},
   "outputs": [
    {
     "name": "stdout",
     "output_type": "stream",
     "text": [
      "Train-set log-price R^2: 1.00\n",
      "Test-set log-price R^2: -5.10\n",
      "Train-set log-price RMSE: 0.10\n",
      "Test-set log-price RMSE: 3.63\n"
     ]
    },
    {
     "data": {
      "image/png": "[encoded data removed]",
      "text/plain": [
       "<Figure size 720x216 with 1 Axes>"
      ]
     },
     "metadata": {
      "needs_background": "light"
     },
     "output_type": "display_data"
    }
   ],
   "source": [
    "eval_on_features(X_year_month, y, regressor)"
   ]
  },
  {
   "cell_type": "markdown",
   "metadata": {},
   "source": [
    "### 2.2 Multiple lag features\n",
    "\n",
    "We can use this shifting technique to engineer multiple feature columns, each with a different lag.\n",
    "\n",
    "One time step is 3 months. We include lags of 1-4 3 months chunks. This would mean that we need one year worth of data to do predictions."
   ]
  }
 ],
 "metadata": {
  "kernelspec": {
   "display_name": "Python 3",
   "language": "python",
   "name": "python3"
  },
  "language_info": {
   "codemirror_mode": {
    "name": "ipython",
    "version": 3
   },
   "file_extension": ".py",
   "mimetype": "text/x-python",
   "name": "python",
   "nbconvert_exporter": "python",
   "pygments_lexer": "ipython3",
   "version": "3.8.3"
  }
 },
 "nbformat": 4,
 "nbformat_minor": 4
}
