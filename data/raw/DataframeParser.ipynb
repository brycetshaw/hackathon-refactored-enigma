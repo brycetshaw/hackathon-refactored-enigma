{
 "cells": [
  {
   "cell_type": "code",
   "execution_count": 1,
   "metadata": {},
   "outputs": [],
   "source": [
    "import pandas as pd\n",
    "from datetime import date, timedelta\n"
   ]
  },
  {
   "cell_type": "code",
   "execution_count": 12,
   "metadata": {},
   "outputs": [],
   "source": [
    "flow_df_banff = pd.read_csv('bow-river-level-at-banff.csv',parse_dates=[['Date', 'Time']])\n",
    "flow_df_calgary = pd.read_csv('bow-river-flow-target-feature.csv', parse_dates=[['Date', 'Time']])"
   ]
  },
  {
   "cell_type": "code",
   "execution_count": 13,
   "metadata": {},
   "outputs": [],
   "source": [
    "flow_df_calgary = flow_df_calgary.resample('60min', on='Date_Time').mean()"
   ]
  },
  {
   "cell_type": "code",
   "execution_count": 38,
   "metadata": {},
   "outputs": [],
   "source": [
    "#flow_df_calgary = flow_df_calgary.set_index('Date_Time')"
   ]
  },
  {
   "cell_type": "code",
   "execution_count": 36,
   "metadata": {},
   "outputs": [],
   "source": [
    "flow_df_calgary = flow_df_calgary[flow_df_calgary.index.month > 3]\n",
    "flow_df_calgary = flow_df_calgary[flow_df_calgary.index.month < 10]\n",
    "flow_df_calgary = flow_df_calgary[flow_df_calgary.index.year >1999]\n",
    "flow_df_calgary = flow_df_calgary[flow_df_calgary.index.year <2020]\n",
    "flow_df_calgary_parsed =flow_df_calgary.fillna(method='backfill')"
   ]
  },
  {
   "cell_type": "code",
   "execution_count": 32,
   "metadata": {},
   "outputs": [],
   "source": []
  },
  {
   "cell_type": "code",
   "execution_count": 41,
   "metadata": {},
   "outputs": [],
   "source": [
    "flow_df_calgary_parsed.to_pickle('../parsed/dataframe1.pkl')"
   ]
  },
  {
   "cell_type": "code",
   "execution_count": null,
   "metadata": {},
   "outputs": [],
   "source": []
  }
 ],
 "metadata": {
  "kernelspec": {
   "display_name": "Python 3",
   "language": "python",
   "name": "python3"
  },
  "language_info": {
   "codemirror_mode": {
    "name": "ipython",
    "version": 3
   },
   "file_extension": ".py",
   "mimetype": "text/x-python",
   "name": "python",
   "nbconvert_exporter": "python",
   "pygments_lexer": "ipython3",
   "version": "3.8.3"
  }
 },
 "nbformat": 4,
 "nbformat_minor": 4
}
