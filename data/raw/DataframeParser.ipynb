{
 "cells": [
  {
   "cell_type": "code",
   "execution_count": 1,
   "metadata": {},
   "outputs": [],
   "source": [
    "import pandas as pd\n",
    "from datetime import date, timedelta\n",
    "\n",
    "from typing import Mapping, MutableMapping, Sequence, Iterable, List, Set\n",
    "# from functools import reduce\n",
    "import funcy"
   ]
  },
  {
   "cell_type": "code",
   "execution_count": 2,
   "metadata": {},
   "outputs": [
    {
     "name": "stdout",
     "output_type": "stream",
     "text": [
      "hello\n"
     ]
    }
   ],
   "source": [
    "print(\"hello\")\n",
    "flow_df_spilli1 = pd.read_csv('../spillimacheen/08NA011_QR_Oct-11-2021_12_24_24AM.csv', skiprows=10)\n",
    "flow_df_spilli2 = pd.read_csv('../spillimacheen/08NA011_QR_Apr-2-2020_06_01_41PM.csv', skiprows = 10)"
   ]
  },
  {
   "cell_type": "code",
   "execution_count": 3,
   "metadata": {},
   "outputs": [],
   "source": [
    "def format_data(df: pd.DataFrame) -> pd.DataFrame:\n",
    "    df.index = pd.to_datetime(df['Date (MST)'])\n",
    "    df = df.resample('60min').mean()\n",
    "    df = df[df.index.month > 3]\n",
    "    df = df[df.index.month < 11]\n",
    "    return df"
   ]
  },
  {
   "cell_type": "code",
   "execution_count": 4,
   "metadata": {},
   "outputs": [],
   "source": [
    "formatted_spilli1 = format_data(flow_df_spilli1)\n",
    "formatted_spilli2 = format_data(flow_df_spilli2)\n"
   ]
  },
  {
   "cell_type": "code",
   "execution_count": 5,
   "metadata": {
    "pycharm": {
     "name": "#%%\n"
    }
   },
   "outputs": [],
   "source": [
    "# parsed = [pd.DataFrame(x).describe for x in raw_flows]\n",
    "# merged = formatted_spilli1.merge(formatted_spilli2, how='left', left_index=True, right_index=True)\n",
    "merged = pd.concat([formatted_spilli1, formatted_spilli2])"
   ]
  },
  {
   "cell_type": "code",
   "execution_count": 6,
   "metadata": {},
   "outputs": [],
   "source": [
    "df_snow = pd.read_csv('../spillimacheen/snow.csv')\n",
    "df_snow.index = pd.to_datetime(df_snow['Timestamp (UTC-06:00)'])"
   ]
  },
  {
   "cell_type": "code",
   "execution_count": 7,
   "metadata": {
    "pycharm": {
     "name": "#%%\n"
    }
   },
   "outputs": [
    {
     "name": "stdout",
     "output_type": "stream",
     "text": [
      "(15411, 2)\n",
      "(14580, 8)\n"
     ]
    }
   ],
   "source": [
    "print(merged.shape)\n",
    "more_merged = merged.merge(df_snow, how='inner', left_index=True, right_index=True)\n",
    "print(more_merged.shape)"
   ]
  },
  {
   "cell_type": "code",
   "execution_count": 8,
   "metadata": {
    "pycharm": {
     "name": "#%%\n"
    }
   },
   "outputs": [
    {
     "data": {
      "text/plain": "Index(['Parameter ', 'Value (m3/s)', 'Timestamp (UTC-06:00)',\n       'Value (Centimetres)', 'Grade Code', 'Approval Level',\n       'Interpolation Type', 'Event Timestamp'],\n      dtype='object')"
     },
     "execution_count": 8,
     "metadata": {},
     "output_type": "execute_result"
    }
   ],
   "source": [
    "more_merged.columns\n"
   ]
  },
  {
   "cell_type": "code",
   "execution_count": 9,
   "metadata": {},
   "outputs": [],
   "source": [
    "trimmed = more_merged.drop(columns=['Parameter ', 'Timestamp (UTC-06:00)',\n",
    "        'Grade Code', 'Approval Level',\n",
    "       'Interpolation Type', 'Event Timestamp'])"
   ]
  },
  {
   "cell_type": "code",
   "execution_count": 10,
   "metadata": {},
   "outputs": [
    {
     "data": {
      "text/plain": "(14580, 2)"
     },
     "execution_count": 10,
     "metadata": {},
     "output_type": "execute_result"
    }
   ],
   "source": [
    "trimmed.shape"
   ]
  },
  {
   "cell_type": "code",
   "execution_count": 11,
   "metadata": {},
   "outputs": [
    {
     "data": {
      "text/plain": "Index(['Value (m3/s)', 'Value (Centimetres)'], dtype='object')"
     },
     "execution_count": 11,
     "metadata": {},
     "output_type": "execute_result"
    }
   ],
   "source": [
    "trimmed.columns"
   ]
  },
  {
   "cell_type": "code",
   "execution_count": 14,
   "metadata": {},
   "outputs": [],
   "source": [
    "trimmed.isna().sum()\n",
    "trimmed.to_csv('./trimmed.csv')"
   ]
  },
  {
   "cell_type": "code",
   "execution_count": 13,
   "metadata": {},
   "outputs": [],
   "source": [
    "from requests import get\n",
    "\n",
    "def getWeather(unix_date, lat, long):\n",
    "    api_key = 'o63RP2YfqXh5YhQynj0l5bsiOH8zPBL48vvZFD7j'\n",
    "    url = f'https://timemachine.pirateweather.net/forecast/{api_key}/{lat},{long},{unix_date}'\n",
    "    return get(url)\n"
   ]
  },
  {
   "cell_type": "code",
   "execution_count": 21,
   "outputs": [],
   "source": [
    "import numpy as np"
   ],
   "metadata": {
    "collapsed": false,
    "pycharm": {
     "name": "#%%\n"
    }
   }
  },
  {
   "cell_type": "code",
   "execution_count": 22,
   "outputs": [],
   "source": [
    "\n",
    "datesList = trimmed.resample('24h').mean()"
   ],
   "metadata": {
    "collapsed": false,
    "pycharm": {
     "name": "#%%\n"
    }
   }
  },
  {
   "cell_type": "code",
   "execution_count": 25,
   "outputs": [
    {
     "name": "stderr",
     "output_type": "stream",
     "text": [
      "/var/folders/x_/wh05yg2n1p70p5wv4hsgwq580000gn/T/ipykernel_16825/1881689952.py:1: FutureWarning: casting datetime64[ns] values to int64 with .astype(...) is deprecated and will raise in a future version. Use .view(...) instead.\n",
      "  datesList['unix_time'] = datesList.index.astype(np.int64)\n"
     ]
    }
   ],
   "source": [
    "datesList['unix_time'] = datesList.index.astype(np.int64)"
   ],
   "metadata": {
    "collapsed": false,
    "pycharm": {
     "name": "#%%\n"
    }
   }
  },
  {
   "cell_type": "code",
   "execution_count": 26,
   "metadata": {},
   "outputs": [
    {
     "data": {
      "text/plain": "            Value (m3/s)  Value (Centimetres)            unix_time\n2019-04-01      5.870625           208.800000  1554076800000000000\n2019-04-02      6.067326           207.845833  1554163200000000000\n2019-04-03      6.427014           207.804167  1554249600000000000\n2019-04-04      6.980139           215.175000  1554336000000000000\n2019-04-05      7.900069           220.333333  1554422400000000000\n...                  ...                  ...                  ...\n2021-10-06     21.927083            29.200000  1633478400000000000\n2021-10-07     22.530208            43.500000  1633564800000000000\n2021-10-08     20.061111            41.708333  1633651200000000000\n2021-10-09     18.751042            34.500000  1633737600000000000\n2021-10-10     18.582843            40.588235  1633824000000000000\n\n[924 rows x 3 columns]",
      "text/html": "<div>\n<style scoped>\n    .dataframe tbody tr th:only-of-type {\n        vertical-align: middle;\n    }\n\n    .dataframe tbody tr th {\n        vertical-align: top;\n    }\n\n    .dataframe thead th {\n        text-align: right;\n    }\n</style>\n<table border=\"1\" class=\"dataframe\">\n  <thead>\n    <tr style=\"text-align: right;\">\n      <th></th>\n      <th>Value (m3/s)</th>\n      <th>Value (Centimetres)</th>\n      <th>unix_time</th>\n    </tr>\n  </thead>\n  <tbody>\n    <tr>\n      <th>2019-04-01</th>\n      <td>5.870625</td>\n      <td>208.800000</td>\n      <td>1554076800000000000</td>\n    </tr>\n    <tr>\n      <th>2019-04-02</th>\n      <td>6.067326</td>\n      <td>207.845833</td>\n      <td>1554163200000000000</td>\n    </tr>\n    <tr>\n      <th>2019-04-03</th>\n      <td>6.427014</td>\n      <td>207.804167</td>\n      <td>1554249600000000000</td>\n    </tr>\n    <tr>\n      <th>2019-04-04</th>\n      <td>6.980139</td>\n      <td>215.175000</td>\n      <td>1554336000000000000</td>\n    </tr>\n    <tr>\n      <th>2019-04-05</th>\n      <td>7.900069</td>\n      <td>220.333333</td>\n      <td>1554422400000000000</td>\n    </tr>\n    <tr>\n      <th>...</th>\n      <td>...</td>\n      <td>...</td>\n      <td>...</td>\n    </tr>\n    <tr>\n      <th>2021-10-06</th>\n      <td>21.927083</td>\n      <td>29.200000</td>\n      <td>1633478400000000000</td>\n    </tr>\n    <tr>\n      <th>2021-10-07</th>\n      <td>22.530208</td>\n      <td>43.500000</td>\n      <td>1633564800000000000</td>\n    </tr>\n    <tr>\n      <th>2021-10-08</th>\n      <td>20.061111</td>\n      <td>41.708333</td>\n      <td>1633651200000000000</td>\n    </tr>\n    <tr>\n      <th>2021-10-09</th>\n      <td>18.751042</td>\n      <td>34.500000</td>\n      <td>1633737600000000000</td>\n    </tr>\n    <tr>\n      <th>2021-10-10</th>\n      <td>18.582843</td>\n      <td>40.588235</td>\n      <td>1633824000000000000</td>\n    </tr>\n  </tbody>\n</table>\n<p>924 rows × 3 columns</p>\n</div>"
     },
     "execution_count": 26,
     "metadata": {},
     "output_type": "execute_result"
    }
   ],
   "source": [
    "datesList"
   ]
  },
  {
   "cell_type": "code",
   "execution_count": 34,
   "outputs": [],
   "source": [
    "max_count = 0\n",
    "count = 0\n",
    "\n",
    "lat = 51.17461\n",
    "lon = -117.21005\n",
    "\n",
    "\n",
    "time_stamp = datesList['unix_time'].iloc[0]\n",
    "\n",
    "\n",
    "res = getWeather(time_stamp, lat, lon)\n"
   ],
   "metadata": {
    "collapsed": false,
    "pycharm": {
     "name": "#%%\n"
    }
   }
  },
  {
   "cell_type": "code",
   "execution_count": 35,
   "outputs": [
    {
     "data": {
      "text/plain": "<Response [502]>"
     },
     "execution_count": 35,
     "metadata": {},
     "output_type": "execute_result"
    }
   ],
   "source": [
    "res"
   ],
   "metadata": {
    "collapsed": false,
    "pycharm": {
     "name": "#%%\n"
    }
   }
  },
  {
   "cell_type": "code",
   "execution_count": null,
   "outputs": [],
   "source": [],
   "metadata": {
    "collapsed": false,
    "pycharm": {
     "name": "#%%\n"
    }
   }
  }
 ],
 "metadata": {
  "kernelspec": {
   "display_name": "PyCharm (hackathon-refactored-enigma)",
   "language": "python",
   "name": "pycharm-90b65e05"
  },
  "language_info": {
   "codemirror_mode": {
    "name": "ipython",
    "version": 3
   },
   "file_extension": ".py",
   "mimetype": "text/x-python",
   "name": "python",
   "nbconvert_exporter": "python",
   "pygments_lexer": "ipython3",
   "version": "3.9.7"
  }
 },
 "nbformat": 4,
 "nbformat_minor": 4
}