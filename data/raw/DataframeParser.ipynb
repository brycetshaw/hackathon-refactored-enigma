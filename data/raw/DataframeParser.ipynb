{
 "cells": [
  {
   "cell_type": "code",
   "execution_count": 1,
   "metadata": {},
   "outputs": [],
   "source": [
    "import pandas as pd\n",
    "from datetime import date, timedelta\n"
   ]
  },
  {
   "cell_type": "code",
   "execution_count": 64,
   "metadata": {},
   "outputs": [],
   "source": [
    "flow_df_banff = pd.read_csv('bow-river-level-at-banff.csv',parse_dates=[['Date', 'Time']])\n",
    "flow_df_calgary = pd.read_csv('bow-river-flow-target-feature.csv', parse_dates=[['Date', 'Time']])\n",
    "elbow_precip = pd.read_csv('elbow-ranger-station-precip.csv', parse_dates=[['Date', 'Time']])\n",
    "elbow_bragg_creek = pd.read_csv('elbow-river-at-bragg-creek.csv', parse_dates=[['Date', 'Time']])\n",
    "elbow_glenmore_dam = pd.read_csv('elbow-river-flow-below-glenmore-dam-target-feature.csv', parse_dates=[['Date', 'Time']])\n",
    "snow_pillow_elbow = pd.read_csv('snow-pillow-elbow.csv', parse_dates=[['Date', 'Time']])\n",
    "lake_louise_precip = pd.read_csv('precip-at-lake-louise.csv', parse_dates=[['Date', 'Time']])\n",
    "lake_louise_snow_pillow = pd.read_csv('snow-pillow-lake-louise.csv', parse_dates=[['Date', 'Time']])"
   ]
  },
  {
   "cell_type": "code",
   "execution_count": 59,
   "metadata": {},
   "outputs": [],
   "source": [
    "def format_data(df):\n",
    "    df= df.resample('60min', on='Date_Time').mean()\n",
    "    df = df[df.index.month > 3]\n",
    "    df = df[df.index.month < 10]\n",
    "    df = df[df.index.year >1999]\n",
    "    df = df[df.index.year <2020]\n",
    "    df_parsed = df.fillna(method='backfill')\n",
    "    return df_parsed"
   ]
  },
  {
   "cell_type": "code",
   "execution_count": 65,
   "metadata": {},
   "outputs": [],
   "source": [
    "flow_df_calgary_parsed = format_data(flow_df_calgary)\n",
    "flow_df_banff_parsed = format_data(flow_df_banff)\n",
    "elbow_precip_parsed = format_data(elbow_precip)\n",
    "elbow_bragg_creek_parsed = format_data(elbow_bragg_creek)\n",
    "elbow_glenmore_dam_parsed = format_data(elbow_glenmore_dam)\n",
    "snow_pillow_elbow_parsed = format_data(snow_pillow_elbow)\n",
    "lake_louise_precip_parsed = format_data(lake_louise_precip)\n",
    "lake_louise_snow_pillow_parsed = format_data(lake_louise_snow_pillow)"
   ]
  },
  {
   "cell_type": "code",
   "execution_count": null,
   "metadata": {},
   "outputs": [],
   "source": []
  },
  {
   "cell_type": "code",
   "execution_count": 66,
   "metadata": {},
   "outputs": [],
   "source": [
    "flow_df_calgary_parsed = flow_df_calgary_parsed.rename(columns={'Value(m3/s)':'calgary_bow_flow(m3/s)'})\n",
    "flow_df_banff_parsed = flow_df_banff_parsed.rename(columns={'Value(m3/s)':'banff_bow_flow(m3/s)'})\n",
    "elbow_precip_parsed = elbow_precip_parsed.rename(columns={'Value(mm)': 'elbow_precip(mm)'})"
   ]
  },
  {
   "cell_type": "code",
   "execution_count": 62,
   "metadata": {},
   "outputs": [],
   "source": [
    "df = pd.merge(flow_df_calgary_parsed, flow_df_banff_parsed, left_index=True, right_index=True)\n",
    "df = pd.merge(df, elbow_precip_parsed, left_index=True, right_index=True)\n",
    "df = pd.merge(df, elbow_bragg_creek_parsed, left_index=True, right_index=True)\n",
    "df = pd.merge(df, elbow_glenmore_dam_parsed, left_index=True, right_index=True)\n",
    "df = pd.merge(df, snow_pillow_elbow_parsed, left_index=True, right_index=True)\n",
    "df = pd.merge(df,lake_louise_precip_parsed, left_index=True, right_index=True)\n",
    "df = pd.merge(df,lake_louise_snow_pillow_parsed, left_index=True, right_index=True)"
   ]
  },
  {
   "cell_type": "code",
   "execution_count": 68,
   "metadata": {},
   "outputs": [],
   "source": [
    "dataframe2 = df"
   ]
  },
  {
   "cell_type": "code",
   "execution_count": 41,
   "metadata": {},
   "outputs": [],
   "source": [
    "flow_df_calgary_parsed.to_pickle('../parsed/dataframe1.pkl')"
   ]
  },
  {
   "cell_type": "code",
   "execution_count": 69,
   "metadata": {},
   "outputs": [],
   "source": [
    "dataframe2.to_pickle('../parsed/dataframe2.pkl')"
   ]
  }
 ],
 "metadata": {
  "kernelspec": {
   "display_name": "Python 3",
   "language": "python",
   "name": "python3"
  },
  "language_info": {
   "codemirror_mode": {
    "name": "ipython",
    "version": 3
   },
   "file_extension": ".py",
   "mimetype": "text/x-python",
   "name": "python",
   "nbconvert_exporter": "python",
   "pygments_lexer": "ipython3",
   "version": "3.8.3"
  }
 },
 "nbformat": 4,
 "nbformat_minor": 4
}
